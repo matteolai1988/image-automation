{
 "cells": [
  {
   "cell_type": "code",
   "execution_count": 1,
   "id": "f68f2e14",
   "metadata": {},
   "outputs": [
    {
     "name": "stdout",
     "output_type": "stream",
     "text": [
      "Requirement already satisfied: Pillow in c:\\users\\matteolai\\anaconda3\\lib\\site-packages (9.2.0)Note: you may need to restart the kernel to use updated packages.\n",
      "\n"
     ]
    }
   ],
   "source": [
    "pip install Pillow"
   ]
  },
  {
   "cell_type": "code",
   "execution_count": 3,
   "id": "66023ee1",
   "metadata": {},
   "outputs": [
    {
     "name": "stdout",
     "output_type": "stream",
     "text": [
      "JPEG (750, 753) RGB\n"
     ]
    }
   ],
   "source": [
    "from PIL import Image\n",
    "im = Image.open(\"matteo and magda.jpg\")\n",
    "print(im.format, im.size, im.mode)\n",
    "im.show()"
   ]
  },
  {
   "cell_type": "code",
   "execution_count": 4,
   "id": "0fcc4abd",
   "metadata": {},
   "outputs": [],
   "source": [
    "import os\n",
    "from PIL import Image\n",
    "from PIL import ImageEnhance\n",
    "\n",
    "infile = \"matteo and magda.jpg\"\n",
    "image = Image.open(infile)\n",
    "\n",
    "enhancer = ImageEnhance.Sharpness(image)\n",
    "enhancer.enhance(2).save('picture_sharpened.jpg')"
   ]
  },
  {
   "cell_type": "code",
   "execution_count": 7,
   "id": "b1f15d46",
   "metadata": {},
   "outputs": [
    {
     "name": "stdout",
     "output_type": "stream",
     "text": [
      "Collecting pytesseract\n",
      "  Downloading pytesseract-0.3.10-py3-none-any.whl (14 kB)\n",
      "Requirement already satisfied: packaging>=21.3 in c:\\users\\matteolai\\anaconda3\\lib\\site-packages (from pytesseract) (21.3)\n",
      "Requirement already satisfied: Pillow>=8.0.0 in c:\\users\\matteolai\\anaconda3\\lib\\site-packages (from pytesseract) (9.2.0)\n",
      "Requirement already satisfied: pyparsing!=3.0.5,>=2.0.2 in c:\\users\\matteolai\\anaconda3\\lib\\site-packages (from packaging>=21.3->pytesseract) (3.0.9)\n",
      "Installing collected packages: pytesseract\n",
      "Successfully installed pytesseract-0.3.10\n",
      "Note: you may need to restart the kernel to use updated packages.\n"
     ]
    }
   ],
   "source": [
    "pip install pytesseract"
   ]
  },
  {
   "cell_type": "code",
   "execution_count": 10,
   "id": "63c61714",
   "metadata": {},
   "outputs": [
    {
     "name": "stdout",
     "output_type": "stream",
     "text": [
      "NETWORK COMMISSION \"\n",
      "FABIO - TREASURER\n",
      "\n",
      "ROBEITO - LOGISTIC\n",
      "\n",
      "POLI - INCOMING FABIAN - MEAL\n",
      "\n",
      "ANTONIO - LOGISTIC\n",
      "\n",
      "\n",
      "TIMED OUT\n"
     ]
    }
   ],
   "source": [
    "#ImageEnhance.Color\n",
    "#ImageEnhance.Contrast\n",
    "#ImageEnhance.Brightness\n",
    "from PIL import Image\n",
    "import pytesseract\n",
    "\n",
    "\n",
    "pytesseract.pytesseract.tesseract_cmd = r'C:\\Program Files\\Tesseract-OCR\\tesseract.exe'\n",
    "\n",
    "\n",
    "#convert image to string and print image\n",
    "print(pytesseract.image_to_string(Image.open('aegee picture.jpg')))\n",
    "\n",
    "\n",
    "#Timeout/terminate the OCR after a period of time\n",
    "try:\n",
    "    print(pytesseract.image_to_string('aegee picture.jpg', timeout=0.1))\n",
    "except RuntimeError as timeout_error:\n",
    "    print(\"TIMED OUT\")\n",
    "    pass"
   ]
  },
  {
   "cell_type": "code",
   "execution_count": 11,
   "id": "b5b35cf6",
   "metadata": {},
   "outputs": [
    {
     "name": "stdout",
     "output_type": "stream",
     "text": [
      "~ 11 300 314 320 0\n",
      "~ 11 320 930 776 0\n",
      "~ 449 300 930 320 0\n",
      "~ 11 49 212 63 0\n",
      "~ 11 12 930 15 0\n",
      "~ 11 15 212 20 0\n",
      "~ 11 63 930 300 0\n",
      "~ 490 20 930 49 0\n",
      "~ 490 15 930 20 0\n",
      "~ 490 49 930 63 0\n",
      "N 314 305 322 314 0\n",
      "E 324 305 328 315 0\n",
      "T 330 305 336 315 0\n",
      "W 337 305 347 314 0\n",
      "O 348 305 357 315 0\n",
      "R 358 305 364 315 0\n",
      "K 366 305 372 315 0\n",
      "C 376 305 383 315 0\n",
      "O 384 305 392 315 0\n",
      "M 393 305 402 315 0\n",
      "M 404 305 412 315 0\n",
      "I 414 306 416 314 0\n",
      "S 417 305 423 315 0\n",
      "S 423 305 429 315 0\n",
      "I 430 305 432 314 0\n",
      "O 433 305 441 315 0\n",
      "N 442 305 449 315 0\n",
      "\" 859 304 872 306 0\n",
      "F 766 285 772 300 0\n",
      "A 772 285 781 300 0\n",
      "B 782 285 789 300 0\n",
      "I 791 286 793 300 0\n",
      "O 795 285 804 300 0\n",
      "- 810 292 814 293 0\n",
      "T 820 285 827 300 0\n",
      "R 828 285 835 300 0\n",
      "E 837 285 843 300 0\n",
      "A 844 286 852 300 0\n",
      "S 853 285 860 300 0\n",
      "U 861 285 869 300 0\n",
      "R 872 285 879 300 0\n",
      "E 880 285 886 300 0\n",
      "R 889 285 896 300 0\n",
      "R 282 27 289 42 0\n",
      "O 290 27 300 42 0\n",
      "B 301 27 309 42 0\n",
      "E 310 27 318 42 0\n",
      "I 316 27 323 51 0\n",
      "T 320 27 333 51 0\n",
      "O 334 27 343 42 0\n",
      "- 349 34 353 35 0\n",
      "L 360 27 366 42 0\n",
      "O 367 27 376 42 0\n",
      "G 377 27 385 42 0\n",
      "I 382 27 389 42 0\n",
      "S 388 27 398 42 0\n",
      "T 399 27 406 42 0\n",
      "I 407 27 409 42 0\n",
      "C 411 27 419 42 0\n",
      "P 533 28 540 43 0\n",
      "O 538 28 546 43 0\n",
      "L 541 28 550 43 0\n",
      "I 552 28 561 43 0\n",
      "- 568 35 572 36 0\n",
      "I 578 28 586 43 0\n",
      "N 586 28 590 42 0\n",
      "C 592 28 600 43 0\n",
      "O 601 28 610 43 0\n",
      "M 612 28 618 43 0\n",
      "I 618 28 626 43 0\n",
      "N 628 28 636 43 0\n",
      "G 638 28 646 43 0\n",
      "F 781 27 787 42 0\n",
      "A 788 27 796 42 0\n",
      "B 797 27 804 42 0\n",
      "I 806 27 808 42 0\n",
      "A 810 27 817 42 0\n",
      "N 819 27 827 42 0\n",
      "- 834 34 837 35 0\n",
      "M 844 27 854 42 0\n",
      "E 856 27 862 42 0\n",
      "A 864 27 872 42 0\n",
      "L 873 27 879 42 0\n",
      "~ 11 20 45 49 0\n",
      "~ 181 20 212 49 0\n",
      "A 45 27 53 42 0\n",
      "N 54 27 59 42 0\n",
      "T 59 27 70 42 0\n",
      "O 71 27 80 42 0\n",
      "N 82 27 87 42 0\n",
      "I 87 27 94 42 0\n",
      "O 96 27 105 42 0\n",
      "- 112 34 115 35 0\n",
      "L 122 27 128 42 0\n",
      "O 129 27 138 42 0\n",
      "G 139 27 147 42 0\n",
      "I 149 27 151 42 0\n",
      "S 153 27 160 42 0\n",
      "T 161 27 168 42 0\n",
      "I 169 27 171 42 0\n",
      "C 173 27 181 42 0\n",
      "~ 251 18 458 260 0\n",
      "\n"
     ]
    }
   ],
   "source": [
    "#get bounding box for the text in images\n",
    "print(pytesseract.image_to_boxes(Image.open('aegee picture.jpg')))"
   ]
  },
  {
   "cell_type": "code",
   "execution_count": 12,
   "id": "57b94405",
   "metadata": {},
   "outputs": [
    {
     "name": "stdout",
     "output_type": "stream",
     "text": [
      "level\tpage_num\tblock_num\tpar_num\tline_num\tword_num\tleft\ttop\twidth\theight\tconf\ttext\n",
      "1\t1\t0\t0\t0\t0\t0\t0\t940\t788\t-1\t\n",
      "2\t1\t1\t0\t0\t0\t11\t12\t919\t764\t-1\t\n",
      "3\t1\t1\t1\t0\t0\t11\t12\t919\t764\t-1\t\n",
      "4\t1\t1\t1\t1\t0\t11\t12\t919\t476\t-1\t\n",
      "5\t1\t1\t1\t1\t1\t11\t12\t919\t476\t95.000000\t   \n",
      "4\t1\t1\t1\t2\t0\t11\t488\t919\t288\t-1\t\n",
      "5\t1\t1\t1\t2\t1\t11\t488\t919\t288\t95.000000\t       \n",
      "2\t1\t2\t0\t0\t0\t314\t473\t582\t30\t-1\t\n",
      "3\t1\t2\t1\t0\t0\t314\t473\t582\t30\t-1\t\n",
      "4\t1\t2\t1\t1\t0\t314\t473\t558\t11\t-1\t\n",
      "5\t1\t2\t1\t1\t1\t314\t473\t58\t10\t89.464928\tNETWORK\n",
      "5\t1\t2\t1\t1\t2\t376\t473\t73\t10\t95.560196\tCOMMISSION\n",
      "5\t1\t2\t1\t1\t3\t859\t482\t13\t2\t11.180382\t\"\n",
      "4\t1\t2\t1\t2\t0\t766\t488\t130\t15\t-1\t\n",
      "5\t1\t2\t1\t2\t1\t766\t488\t38\t15\t93.252472\tFABIO\n",
      "5\t1\t2\t1\t2\t2\t810\t495\t4\t1\t92.249062\t-\n",
      "5\t1\t2\t1\t2\t3\t820\t488\t76\t15\t95.066238\tTREASURER\n",
      "2\t1\t3\t0\t0\t0\t282\t737\t137\t24\t-1\t\n",
      "3\t1\t3\t1\t0\t0\t282\t737\t137\t24\t-1\t\n",
      "4\t1\t3\t1\t1\t0\t282\t737\t137\t24\t-1\t\n",
      "5\t1\t3\t1\t1\t1\t282\t737\t61\t24\t66.816040\tROBEITO\n",
      "5\t1\t3\t1\t1\t2\t349\t753\t4\t1\t77.668724\t-\n",
      "5\t1\t3\t1\t1\t3\t360\t746\t59\t15\t96.753815\tLOGISTIC\n",
      "2\t1\t4\t0\t0\t0\t533\t745\t346\t16\t-1\t\n",
      "3\t1\t4\t1\t0\t0\t533\t745\t346\t16\t-1\t\n",
      "4\t1\t4\t1\t1\t0\t533\t745\t346\t16\t-1\t\n",
      "5\t1\t4\t1\t1\t1\t533\t745\t28\t15\t93.286781\tPOLI\n",
      "5\t1\t4\t1\t1\t2\t568\t752\t4\t1\t92.308281\t-\n",
      "5\t1\t4\t1\t1\t3\t578\t745\t68\t15\t93.914452\tINCOMING\n",
      "5\t1\t4\t1\t1\t4\t781\t746\t46\t15\t93.098259\tFABIAN\n",
      "5\t1\t4\t1\t1\t5\t834\t753\t3\t1\t91.752693\t-\n",
      "5\t1\t4\t1\t1\t6\t844\t746\t35\t15\t96.792023\tMEAL\n",
      "2\t1\t5\t0\t0\t0\t11\t739\t201\t29\t-1\t\n",
      "3\t1\t5\t1\t0\t0\t11\t739\t201\t29\t-1\t\n",
      "4\t1\t5\t1\t1\t0\t11\t739\t201\t29\t-1\t\n",
      "5\t1\t5\t1\t1\t1\t11\t739\t34\t29\t95.000000\t \n",
      "5\t1\t5\t1\t1\t2\t181\t739\t31\t29\t95.000000\t \n",
      "2\t1\t6\t0\t0\t0\t45\t746\t136\t15\t-1\t\n",
      "3\t1\t6\t1\t0\t0\t45\t746\t136\t15\t-1\t\n",
      "4\t1\t6\t1\t1\t0\t45\t746\t136\t15\t-1\t\n",
      "5\t1\t6\t1\t1\t1\t45\t746\t60\t15\t93.282448\tANTONIO\n",
      "5\t1\t6\t1\t1\t2\t112\t753\t3\t1\t92.520744\t-\n",
      "5\t1\t6\t1\t1\t3\t122\t746\t59\t15\t96.979141\tLOGISTIC\n",
      "2\t1\t7\t0\t0\t0\t251\t528\t207\t242\t-1\t\n",
      "3\t1\t7\t1\t0\t0\t251\t528\t207\t242\t-1\t\n",
      "4\t1\t7\t1\t1\t0\t251\t528\t207\t242\t-1\t\n",
      "5\t1\t7\t1\t1\t1\t251\t528\t207\t242\t95.000000\t \n",
      "\n"
     ]
    }
   ],
   "source": [
    "#get verbose data about the image including boxes, confidences, line and page numbers\n",
    "print(pytesseract.image_to_data(Image.open('aegee picture.jpg')))"
   ]
  },
  {
   "cell_type": "code",
   "execution_count": 13,
   "id": "b11361d3",
   "metadata": {},
   "outputs": [
    {
     "name": "stdout",
     "output_type": "stream",
     "text": [
      "Page number: 0\n",
      "Orientation in degrees: 0\n",
      "Rotate: 0\n",
      "Orientation confidence: 0.43\n",
      "Script: Cyrillic\n",
      "Script confidence: 1.67\n",
      "\n"
     ]
    }
   ],
   "source": [
    "#information about the script dectection and orientation\n",
    "print(pytesseract.image_to_osd(Image.open('aegee picture.jpg')))"
   ]
  },
  {
   "cell_type": "code",
   "execution_count": 14,
   "id": "914288d7",
   "metadata": {},
   "outputs": [
    {
     "name": "stdout",
     "output_type": "stream",
     "text": [
      "b'<?xml version=\"1.0\" encoding=\"UTF-8\"?>\\n<alto xmlns=\"http://www.loc.gov/standards/alto/ns-v3#\" xmlns:xlink=\"http://www.w3.org/1999/xlink\" xmlns:xsi=\"http://www.w3.org/2001/XMLSchema-instance\" xsi:schemaLocation=\"http://www.loc.gov/standards/alto/ns-v3# http://www.loc.gov/alto/v3/alto-3-0.xsd\">\\n\\t<Description>\\n\\t\\t<MeasurementUnit>pixel</MeasurementUnit>\\n\\t\\t<sourceImageInformation>\\n\\t\\t\\t<fileName>C:\\\\Users\\\\MATTEO~1\\\\AppData\\\\Local\\\\Temp\\\\tess_te6nzg66_input.JPEG</fileName>\\n\\t\\t</sourceImageInformation>\\n\\t\\t<OCRProcessing ID=\"OCR_0\">\\n\\t\\t\\t<ocrProcessingStep>\\n\\t\\t\\t\\t<processingSoftware>\\n\\t\\t\\t\\t\\t<softwareName>tesseract v5.3.0.20221222</softwareName>\\n\\t\\t\\t\\t</processingSoftware>\\n\\t\\t\\t</ocrProcessingStep>\\n\\t\\t</OCRProcessing>\\n\\t</Description>\\n\\t<Layout>\\n\\t\\t<Page WIDTH=\"940\" HEIGHT=\"788\" PHYSICAL_IMG_NR=\"0\" ID=\"page_0\">\\n\\t\\t\\t<PrintSpace HPOS=\"0\" VPOS=\"0\" WIDTH=\"940\" HEIGHT=\"788\">\\n\\t\\t\\t\\t<Illustration ID=\"cblock_0\" HPOS=\"11\" VPOS=\"12\" WIDTH=\"919\" HEIGHT=\"764\"></Illustration>\\n\\t\\t\\t\\t<ComposedBlock ID=\"cblock_1\" HPOS=\"314\" VPOS=\"473\" WIDTH=\"582\" HEIGHT=\"30\">\\n\\t\\t\\t\\t\\t<TextBlock ID=\"block_0\" HPOS=\"314\" VPOS=\"473\" WIDTH=\"582\" HEIGHT=\"30\">\\n\\t\\t\\t\\t\\t\\t<TextLine ID=\"line_0\" HPOS=\"314\" VPOS=\"473\" WIDTH=\"558\" HEIGHT=\"11\">\\n\\t\\t\\t\\t\\t\\t\\t<String ID=\"string_0\" HPOS=\"314\" VPOS=\"473\" WIDTH=\"58\" HEIGHT=\"10\" WC=\"0.89\" CONTENT=\"NETWORK\"/><SP WIDTH=\"4\" VPOS=\"473\" HPOS=\"372\"/>\\n\\t\\t\\t\\t\\t\\t\\t<String ID=\"string_1\" HPOS=\"376\" VPOS=\"473\" WIDTH=\"73\" HEIGHT=\"10\" WC=\"0.95\" CONTENT=\"COMMISSION\"/><SP WIDTH=\"410\" VPOS=\"473\" HPOS=\"449\"/>\\n\\t\\t\\t\\t\\t\\t\\t<String ID=\"string_2\" HPOS=\"859\" VPOS=\"482\" WIDTH=\"13\" HEIGHT=\"2\" WC=\"0.11\" CONTENT=\"&quot;\"/>\\n\\t\\t\\t\\t\\t\\t</TextLine>\\n\\t\\t\\t\\t\\t\\t<TextLine ID=\"line_1\" HPOS=\"766\" VPOS=\"488\" WIDTH=\"130\" HEIGHT=\"15\">\\n\\t\\t\\t\\t\\t\\t\\t<String ID=\"string_3\" HPOS=\"766\" VPOS=\"488\" WIDTH=\"38\" HEIGHT=\"15\" WC=\"0.93\" CONTENT=\"FABIO\"/><SP WIDTH=\"6\" VPOS=\"488\" HPOS=\"804\"/>\\n\\t\\t\\t\\t\\t\\t\\t<String ID=\"string_4\" HPOS=\"810\" VPOS=\"495\" WIDTH=\"4\" HEIGHT=\"1\" WC=\"0.92\" CONTENT=\"-\"/><SP WIDTH=\"6\" VPOS=\"495\" HPOS=\"814\"/>\\n\\t\\t\\t\\t\\t\\t\\t<String ID=\"string_5\" HPOS=\"820\" VPOS=\"488\" WIDTH=\"76\" HEIGHT=\"15\" WC=\"0.95\" CONTENT=\"TREASURER\"/>\\n\\t\\t\\t\\t\\t\\t</TextLine>\\n\\t\\t\\t\\t\\t</TextBlock>\\n\\t\\t\\t\\t</ComposedBlock>\\n\\t\\t\\t\\t<ComposedBlock ID=\"cblock_2\" HPOS=\"282\" VPOS=\"737\" WIDTH=\"137\" HEIGHT=\"24\">\\n\\t\\t\\t\\t\\t<TextBlock ID=\"block_1\" HPOS=\"282\" VPOS=\"737\" WIDTH=\"137\" HEIGHT=\"24\">\\n\\t\\t\\t\\t\\t\\t<TextLine ID=\"line_2\" HPOS=\"282\" VPOS=\"737\" WIDTH=\"137\" HEIGHT=\"24\">\\n\\t\\t\\t\\t\\t\\t\\t<String ID=\"string_6\" HPOS=\"282\" VPOS=\"737\" WIDTH=\"61\" HEIGHT=\"24\" WC=\"0.66\" CONTENT=\"ROBEITO\"/><SP WIDTH=\"6\" VPOS=\"737\" HPOS=\"343\"/>\\n\\t\\t\\t\\t\\t\\t\\t<String ID=\"string_7\" HPOS=\"349\" VPOS=\"753\" WIDTH=\"4\" HEIGHT=\"1\" WC=\"0.77\" CONTENT=\"-\"/><SP WIDTH=\"7\" VPOS=\"753\" HPOS=\"353\"/>\\n\\t\\t\\t\\t\\t\\t\\t<String ID=\"string_8\" HPOS=\"360\" VPOS=\"746\" WIDTH=\"59\" HEIGHT=\"15\" WC=\"0.96\" CONTENT=\"LOGISTIC\"/>\\n\\t\\t\\t\\t\\t\\t</TextLine>\\n\\t\\t\\t\\t\\t</TextBlock>\\n\\t\\t\\t\\t</ComposedBlock>\\n\\t\\t\\t\\t<ComposedBlock ID=\"cblock_3\" HPOS=\"533\" VPOS=\"745\" WIDTH=\"346\" HEIGHT=\"16\">\\n\\t\\t\\t\\t\\t<TextBlock ID=\"block_2\" HPOS=\"533\" VPOS=\"745\" WIDTH=\"346\" HEIGHT=\"16\">\\n\\t\\t\\t\\t\\t\\t<TextLine ID=\"line_3\" HPOS=\"533\" VPOS=\"745\" WIDTH=\"346\" HEIGHT=\"16\">\\n\\t\\t\\t\\t\\t\\t\\t<String ID=\"string_9\" HPOS=\"533\" VPOS=\"745\" WIDTH=\"28\" HEIGHT=\"15\" WC=\"0.93\" CONTENT=\"POLI\"/><SP WIDTH=\"7\" VPOS=\"745\" HPOS=\"561\"/>\\n\\t\\t\\t\\t\\t\\t\\t<String ID=\"string_10\" HPOS=\"568\" VPOS=\"752\" WIDTH=\"4\" HEIGHT=\"1\" WC=\"0.92\" CONTENT=\"-\"/><SP WIDTH=\"6\" VPOS=\"752\" HPOS=\"572\"/>\\n\\t\\t\\t\\t\\t\\t\\t<String ID=\"string_11\" HPOS=\"578\" VPOS=\"745\" WIDTH=\"68\" HEIGHT=\"15\" WC=\"0.93\" CONTENT=\"INCOMING\"/><SP WIDTH=\"135\" VPOS=\"745\" HPOS=\"646\"/>\\n\\t\\t\\t\\t\\t\\t\\t<String ID=\"string_12\" HPOS=\"781\" VPOS=\"746\" WIDTH=\"46\" HEIGHT=\"15\" WC=\"0.93\" CONTENT=\"FABIAN\"/><SP WIDTH=\"7\" VPOS=\"746\" HPOS=\"827\"/>\\n\\t\\t\\t\\t\\t\\t\\t<String ID=\"string_13\" HPOS=\"834\" VPOS=\"753\" WIDTH=\"3\" HEIGHT=\"1\" WC=\"0.91\" CONTENT=\"-\"/><SP WIDTH=\"7\" VPOS=\"753\" HPOS=\"837\"/>\\n\\t\\t\\t\\t\\t\\t\\t<String ID=\"string_14\" HPOS=\"844\" VPOS=\"746\" WIDTH=\"35\" HEIGHT=\"15\" WC=\"0.96\" CONTENT=\"MEAL\"/>\\n\\t\\t\\t\\t\\t\\t</TextLine>\\n\\t\\t\\t\\t\\t</TextBlock>\\n\\t\\t\\t\\t</ComposedBlock>\\n\\t\\t\\t\\t<Illustration ID=\"cblock_4\" HPOS=\"11\" VPOS=\"739\" WIDTH=\"201\" HEIGHT=\"29\"></Illustration>\\n\\t\\t\\t\\t<ComposedBlock ID=\"cblock_5\" HPOS=\"45\" VPOS=\"746\" WIDTH=\"136\" HEIGHT=\"15\">\\n\\t\\t\\t\\t\\t<TextBlock ID=\"block_3\" HPOS=\"45\" VPOS=\"746\" WIDTH=\"136\" HEIGHT=\"15\">\\n\\t\\t\\t\\t\\t\\t<TextLine ID=\"line_4\" HPOS=\"45\" VPOS=\"746\" WIDTH=\"136\" HEIGHT=\"15\">\\n\\t\\t\\t\\t\\t\\t\\t<String ID=\"string_15\" HPOS=\"45\" VPOS=\"746\" WIDTH=\"60\" HEIGHT=\"15\" WC=\"0.93\" CONTENT=\"ANTONIO\"/><SP WIDTH=\"7\" VPOS=\"746\" HPOS=\"105\"/>\\n\\t\\t\\t\\t\\t\\t\\t<String ID=\"string_16\" HPOS=\"112\" VPOS=\"753\" WIDTH=\"3\" HEIGHT=\"1\" WC=\"0.92\" CONTENT=\"-\"/><SP WIDTH=\"7\" VPOS=\"753\" HPOS=\"115\"/>\\n\\t\\t\\t\\t\\t\\t\\t<String ID=\"string_17\" HPOS=\"122\" VPOS=\"746\" WIDTH=\"59\" HEIGHT=\"15\" WC=\"0.96\" CONTENT=\"LOGISTIC\"/>\\n\\t\\t\\t\\t\\t\\t</TextLine>\\n\\t\\t\\t\\t\\t</TextBlock>\\n\\t\\t\\t\\t</ComposedBlock>\\n\\t\\t\\t\\t<Illustration ID=\"cblock_6\" HPOS=\"251\" VPOS=\"528\" WIDTH=\"207\" HEIGHT=\"242\"></Illustration>\\n\\t\\t\\t</PrintSpace>\\n\\t\\t</Page>\\n\\t</Layout>\\n</alto>\\n'\n"
     ]
    }
   ],
   "source": [
    "#the results in the form of ALTO XML format\n",
    "print(pytesseract.image_to_alto_xml(Image.open('aegee picture.jpg')))"
   ]
  },
  {
   "cell_type": "code",
   "execution_count": 15,
   "id": "a50ed7a3",
   "metadata": {},
   "outputs": [
    {
     "name": "stdout",
     "output_type": "stream",
     "text": [
      "\n"
     ]
    }
   ],
   "source": [
    "#get the raw output from the Tesseract OCR\n",
    "print(pytesseract.run_and_get_output(Image.open('aegee picture.jpg')))"
   ]
  },
  {
   "cell_type": "code",
   "execution_count": 16,
   "id": "9cf54985",
   "metadata": {},
   "outputs": [
    {
     "name": "stdout",
     "output_type": "stream",
     "text": [
      "NETWORK COMMISSION \"\n",
      "FABIO - TREASURER\n",
      "\n",
      "ROBEITO - LOGISTIC\n",
      "\n",
      "POLI - INCOMING FABIAN - MEAL\n",
      "\n",
      "ANTONIO - LOGISTIC\n",
      "\n",
      "\n"
     ]
    }
   ],
   "source": [
    "#get the output as a string\n",
    "print(pytesseract.image_to_string(Image.open('aegee picture.jpg')))"
   ]
  },
  {
   "cell_type": "code",
   "execution_count": 19,
   "id": "ef1a39cd",
   "metadata": {},
   "outputs": [
    {
     "data": {
      "text/plain": [
       "['eng', 'osd']"
      ]
     },
     "execution_count": 19,
     "metadata": {},
     "output_type": "execute_result"
    }
   ],
   "source": [
    "pytesseract.get_languages()"
   ]
  },
  {
   "cell_type": "code",
   "execution_count": 21,
   "id": "660212f3",
   "metadata": {},
   "outputs": [
    {
     "data": {
      "text/plain": [
       "<Version('5.3.0.20221222')>"
      ]
     },
     "execution_count": 21,
     "metadata": {},
     "output_type": "execute_result"
    }
   ],
   "source": [
    "pytesseract.get_tesseract_version()"
   ]
  },
  {
   "cell_type": "code",
   "execution_count": null,
   "id": "054f513f",
   "metadata": {},
   "outputs": [],
   "source": []
  }
 ],
 "metadata": {
  "kernelspec": {
   "display_name": "Python 3 (ipykernel)",
   "language": "python",
   "name": "python3"
  },
  "language_info": {
   "codemirror_mode": {
    "name": "ipython",
    "version": 3
   },
   "file_extension": ".py",
   "mimetype": "text/x-python",
   "name": "python",
   "nbconvert_exporter": "python",
   "pygments_lexer": "ipython3",
   "version": "3.9.13"
  }
 },
 "nbformat": 4,
 "nbformat_minor": 5
}
